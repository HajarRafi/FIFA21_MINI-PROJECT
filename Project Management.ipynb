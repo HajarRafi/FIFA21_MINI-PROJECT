{
 "cells": [
  {
   "cell_type": "markdown",
   "id": "169c33ae",
   "metadata": {},
   "source": [
    "# Project plan"
   ]
  },
  {
   "cell_type": "markdown",
   "id": "15c70db0",
   "metadata": {},
   "source": [
    "## Date 11.01.22 - 15.01.22"
   ]
  },
  {
   "cell_type": "markdown",
   "id": "6ae31963",
   "metadata": {},
   "source": [
    "### Tuesday:\n",
    "* Familiarize\n",
    "* Check the abbreviations\n",
    "* Check the website\n",
    "\n",
    "Time ~2h"
   ]
  },
  {
   "cell_type": "markdown",
   "id": "669bee31",
   "metadata": {},
   "source": [
    "## Wednesday:\n",
    "* Create Jupyter notebook and import the dataset\n",
    "* Plan the data cleaning \n",
    "* Define functions to clean the data\n",
    "\n",
    "Time ~6h"
   ]
  },
  {
   "cell_type": "markdown",
   "id": "50e9787b",
   "metadata": {},
   "source": [
    "## Thursday:\n",
    "* Continue the cleaning and save final data\n",
    "* Define goals for the data exploration and discuss with instructor\n",
    "* Create connection wit Mysql and export the data\n",
    "\n",
    "Time ~5h"
   ]
  },
  {
   "cell_type": "markdown",
   "id": "018fafb1",
   "metadata": {},
   "source": [
    "## Friday:\n",
    "* Review the goals and try to implement them\n",
    "* Change the goals according to outcomes\n",
    "* Work on the new goals\n",
    "* Finish the EDA\n",
    "\n",
    "Time ~8h"
   ]
  },
  {
   "cell_type": "markdown",
   "id": "712130fd",
   "metadata": {},
   "source": [
    "## Saturday:\n",
    "* Discuss the outcomes with instructor\n",
    "* Review and change the regression\n",
    "* Present results\n",
    "\n",
    "Time ~3h"
   ]
  }
 ],
 "metadata": {
  "kernelspec": {
   "display_name": "Python 3 (ipykernel)",
   "language": "python",
   "name": "python3"
  },
  "language_info": {
   "codemirror_mode": {
    "name": "ipython",
    "version": 3
   },
   "file_extension": ".py",
   "mimetype": "text/x-python",
   "name": "python",
   "nbconvert_exporter": "python",
   "pygments_lexer": "ipython3",
   "version": "3.9.7"
  }
 },
 "nbformat": 4,
 "nbformat_minor": 5
}
